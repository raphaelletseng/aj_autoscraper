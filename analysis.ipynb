{
 "cells": [
  {
   "cell_type": "code",
   "execution_count": 6,
   "metadata": {},
   "outputs": [],
   "source": [
    "import numpy as np\n",
    "import pandas as pd \n",
    "import nltk \n",
    "import string"
   ]
  },
  {
   "cell_type": "code",
   "execution_count": 14,
   "metadata": {},
   "outputs": [],
   "source": [
    "pd.set_option('display.max_columns', 500)\n",
    "pd.set_option('display.width', 800)"
   ]
  },
  {
   "cell_type": "code",
   "execution_count": 13,
   "metadata": {},
   "outputs": [
    {
     "name": "stdout",
     "output_type": "stream",
     "text": [
      "                          org                  scraped_at                                         headline_1                                         headline_2                                         headline_3\n",
      "0   https://www.economist.com  2024-11-28 05:39:57.350818  Elon Musk’s xAI goes after OpenAI, https://www...  Does Donald Trump have unlimited authority to ...  Peace in Lebanon is just a start, https://www....\n",
      "1  https://www.lemonde.fr/en/  2024-11-28 05:39:55.247174  With her latest production, French theater gia...  Tens of thousands in Lebanon head home as Isra...  Biden administration tells Ukraine to lower co...\n",
      "2         https://www.bbc.com  2024-11-28 05:39:54.460652  Air raid alert across Ukraine as multiple expl...  The Lebanon ceasefire is a respite, not a solu...  Mexico leader responds to Trump claim she agre...\n",
      "3   https://www.aljazeera.com  2024-11-28 05:39:53.667695  ‘Absolutely terrifying’: Israel pounds north G...  Dozens killed as armed groups attack Syrian mi...  Biden OKs $680m Israel arms sale despite new G...\n",
      "4   https://www.economist.com  2024-11-27 05:39:19.865585  Trump wastes no time in reigniting trade wars,...  Israel and Hizbullah strike a fragile deal to ...  As Jack Smith exits, Donald Trump’s allies hin...\n"
     ]
    }
   ],
   "source": [
    "df = pd.read_csv('subset_headlines.csv')\n",
    "print(df.head())"
   ]
  },
  {
   "cell_type": "code",
   "execution_count": 8,
   "metadata": {},
   "outputs": [],
   "source": [
    "## Safely split\n",
    "def safe_split(text):\n",
    "    try:\n",
    "        return text.split(' ')\n",
    "    except:\n",
    "        print(text)\n",
    "        return [None, None]"
   ]
  },
  {
   "cell_type": "code",
   "execution_count": 9,
   "metadata": {},
   "outputs": [
    {
     "name": "stdout",
     "output_type": "stream",
     "text": [
      "                          org                  scraped_at  \\\n",
      "0   https://www.economist.com  2024-11-28 05:39:57.350818   \n",
      "1  https://www.lemonde.fr/en/  2024-11-28 05:39:55.247174   \n",
      "2         https://www.bbc.com  2024-11-28 05:39:54.460652   \n",
      "3   https://www.aljazeera.com  2024-11-28 05:39:53.667695   \n",
      "4   https://www.economist.com  2024-11-27 05:39:19.865585   \n",
      "5  https://www.lemonde.fr/en/  2024-11-27 05:39:18.869199   \n",
      "6         https://www.bbc.com  2024-11-27 05:39:18.127691   \n",
      "7   https://www.aljazeera.com  2024-11-27 05:39:17.439470   \n",
      "8   https://www.economist.com  2024-11-26 05:38:43.029224   \n",
      "9  https://www.lemonde.fr/en/  2024-11-26 05:38:41.938725   \n",
      "\n",
      "                                    headline_1_title  \\\n",
      "0                Elon Musk’s xAI goes after OpenAI,    \n",
      "1  With her latest production, French theater gia...   \n",
      "2  Air raid alert across Ukraine as multiple expl...   \n",
      "3  ‘Absolutely terrifying’: Israel pounds north G...   \n",
      "4    Trump wastes no time in reigniting trade wars,    \n",
      "5  Israel and Lebanon's Hezbollah ceasefire takes...   \n",
      "6  What we know about Israel-Hezbollah ceasefire ...   \n",
      "7  ‘Fragile truce’: Lebanon peace hopes as Israel...   \n",
      "8  Nobody knows why ultra-processed foods are bad...   \n",
      "9  Trump, saved by American voters, escapes feder...   \n",
      "\n",
      "                                      headline_1_url  \\\n",
      "0  www.economist.com/business/2024/11/27/elon-mus...   \n",
      "1  www.lemonde.fr/en/culture/article/2024/11/28/w...   \n",
      "2             www.bbc.com/news/articles/cwy15lp21l3o   \n",
      "3  www.aljazeera.com/news/liveblog/2024/11/28/liv...   \n",
      "4  www.economist.com/finance-and-economics/2024/1...   \n",
      "5  www.lemonde.fr/en/international/article/2024/1...   \n",
      "6             www.bbc.com/news/articles/cx2d3gj9ewxo   \n",
      "7  www.aljazeera.com/news/liveblog/2024/11/27/liv...   \n",
      "8  www.economist.com/science-and-technology/2024/...   \n",
      "9  www.lemonde.fr/en/international/article/2024/1...   \n",
      "\n",
      "                                    headline_2_title  \\\n",
      "0  Does Donald Trump have unlimited authority to ...   \n",
      "1  Tens of thousands in Lebanon head home as Isra...   \n",
      "2  The Lebanon ceasefire is a respite, not a solu...   \n",
      "3  Dozens killed as armed groups attack Syrian mi...   \n",
      "4  Israel and Hizbullah strike a fragile deal to ...   \n",
      "5  51 men are standing trial for the rapes of Gis...   \n",
      "6  Israeli anger at 'irresponsible and hasty' cea...   \n",
      "7  Israel-Hezbollah ceasefire agreement begins in...   \n",
      "8  Democratic states are preparing for Donald Tru...   \n",
      "9  Le Pen's party ideas are taking root, but so i...   \n",
      "\n",
      "                                      headline_2_url  \\\n",
      "0  www.economist.com/united-states/2024/11/27/doe...   \n",
      "1  www.lemonde.fr/en/international/article/2024/1...   \n",
      "2             www.bbc.com/news/articles/c5ygn5579gvo   \n",
      "3  www.aljazeera.com/news/2024/11/28/dozen-killed...   \n",
      "4  www.economist.com/middle-east-and-africa/2024/...   \n",
      "5  www.lemonde.fr/en/france/visuel/2024/11/27/51-...   \n",
      "6             www.bbc.com/news/articles/cj3m4n4lmrko   \n",
      "7  www.aljazeera.com/news/2024/11/26/biden-announ...   \n",
      "8  www.economist.com/united-states/2024/11/25/dem...   \n",
      "9  www.lemonde.fr/en/france/article/2024/11/26/le...   \n",
      "\n",
      "                                    headline_3_title  \\\n",
      "0                 Peace in Lebanon is just a start,    \n",
      "1  Biden administration tells Ukraine to lower co...   \n",
      "2  Mexico leader responds to Trump claim she agre...   \n",
      "3  Biden OKs $680m Israel arms sale despite new G...   \n",
      "4  As Jack Smith exits, Donald Trump’s allies hin...   \n",
      "5  Tariffs: 'American trade restrictions worsened...   \n",
      "6  Israel warns south Lebanese civilians not to g...   \n",
      "7  Vietnam’s richest man vies to dethrone SE Asia...   \n",
      "8  The frightening maths of Europe’s military bla...   \n",
      "9  In East Jerusalem, a record number of homes de...   \n",
      "\n",
      "                                      headline_3_url  \n",
      "0  www.economist.com/leaders/2024/11/27/peace-in-...  \n",
      "1  www.lemonde.fr/en/international/article/2024/1...  \n",
      "2             www.bbc.com/news/articles/c89v4w51dzyo  \n",
      "3  www.aljazeera.com/news/2024/11/27/biden-oks-68...  \n",
      "4  www.economist.com/united-states/2024/11/26/as-...  \n",
      "5  www.lemonde.fr/en/opinion/article/2024/11/27/t...  \n",
      "6                 www.bbc.com/news/live/cnvjl42g9m1t  \n",
      "7  www.aljazeera.com/economy/2024/11/27/vietnams-...  \n",
      "8  www.economist.com/europe/2024/11/25/the-fright...  \n",
      "9  www.lemonde.fr/en/international/article/2024/1...  \n"
     ]
    }
   ],
   "source": [
    "df[['headline_1_title', 'headline_1_url']] = df['headline_1'].str.split('https://', n=1, expand=True)\n",
    "df[['headline_2_title', 'headline_2_url']] = df['headline_2'].str.split('https://', n=1, expand=True)\n",
    "df[['headline_3_title', 'headline_3_url']] = df['headline_3'].str.split('https://', n=1, expand=True)\n",
    "\n",
    "df.drop(['headline_1', 'headline_2', 'headline_3'], axis=1, inplace=True)\n",
    "\n",
    "print(df.head(10))"
   ]
  },
  {
   "cell_type": "code",
   "execution_count": 10,
   "metadata": {},
   "outputs": [
    {
     "name": "stdout",
     "output_type": "stream",
     "text": [
      "                          org                  scraped_at  \\\n",
      "0   https://www.economist.com  2024-11-28 05:39:57.350818   \n",
      "1  https://www.lemonde.fr/en/  2024-11-28 05:39:55.247174   \n",
      "\n",
      "                                    headline_1_title  \\\n",
      "0                Elon Musk’s xAI goes after OpenAI,    \n",
      "1  With her latest production, French theater gia...   \n",
      "\n",
      "                                      headline_1_url  \\\n",
      "0  https://www.economist.com/business/2024/11/27/...   \n",
      "1  https://www.lemonde.fr/en/culture/article/2024...   \n",
      "\n",
      "                                    headline_2_title  \\\n",
      "0  Does Donald Trump have unlimited authority to ...   \n",
      "1  Tens of thousands in Lebanon head home as Isra...   \n",
      "\n",
      "                                      headline_2_url  \\\n",
      "0  https://www.economist.com/united-states/2024/1...   \n",
      "1  https://www.lemonde.fr/en/international/articl...   \n",
      "\n",
      "                                    headline_3_title  \\\n",
      "0                 Peace in Lebanon is just a start,    \n",
      "1  Biden administration tells Ukraine to lower co...   \n",
      "\n",
      "                                      headline_3_url  \n",
      "0  https://www.economist.com/leaders/2024/11/27/p...  \n",
      "1  https://www.lemonde.fr/en/international/articl...  \n"
     ]
    }
   ],
   "source": [
    "for i in ['headline_1_url', 'headline_2_url', 'headline_3_url']:\n",
    "    df[i] = 'https://' + df[i].astype(str)\n",
    "print(df.head(2))"
   ]
  }
 ],
 "metadata": {
  "kernelspec": {
   "display_name": "news_autoscraper",
   "language": "python",
   "name": "python3"
  },
  "language_info": {
   "codemirror_mode": {
    "name": "ipython",
    "version": 3
   },
   "file_extension": ".py",
   "mimetype": "text/x-python",
   "name": "python",
   "nbconvert_exporter": "python",
   "pygments_lexer": "ipython3",
   "version": "3.13.0"
  }
 },
 "nbformat": 4,
 "nbformat_minor": 2
}
